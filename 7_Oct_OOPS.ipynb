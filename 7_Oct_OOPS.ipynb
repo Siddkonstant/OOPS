{
 "cells": [
  {
   "cell_type": "markdown",
   "id": "b9fddfcc-f432-422a-8666-81fb861880b6",
   "metadata": {},
   "source": [
    "Problem 1: Bank Account Create a class representing a bank account with attributes like account number, account holder name, and balance. Implement methods to deposit and withdraw money from the account."
   ]
  },
  {
   "cell_type": "code",
   "execution_count": 1,
   "id": "ae8d10a2-a21e-489d-a273-46b66de3e9c8",
   "metadata": {},
   "outputs": [
    {
     "name": "stdout",
     "output_type": "stream",
     "text": [
      "Hello welcome to the bank\n"
     ]
    },
    {
     "name": "stdin",
     "output_type": "stream",
     "text": [
      "Enter the amount to be deposited 100\n"
     ]
    },
    {
     "name": "stdout",
     "output_type": "stream",
     "text": [
      "Amount deposited:  100.0\n"
     ]
    },
    {
     "name": "stdin",
     "output_type": "stream",
     "text": [
      "Enter the amount to withdraw 50\n"
     ]
    },
    {
     "name": "stdout",
     "output_type": "stream",
     "text": [
      "Amount withdrawn: 50.0\n",
      "Your balance is:  50.0\n"
     ]
    }
   ],
   "source": [
    "class bank_account():\n",
    "    def __init__(self):\n",
    "        self.balance=0\n",
    "        print(\"Hello welcome to the bank\")\n",
    "       \n",
    "    def deposit(self):\n",
    "        amount = float(input(\"Enter the amount to be deposited\"))\n",
    "        self.balance += amount\n",
    "        print(\"Amount deposited: \", amount)\n",
    "                       \n",
    "    def withdraw(self):\n",
    "        amount = float(input(\"Enter the amount to withdraw\"))\n",
    "        if self.balance >= amount:\n",
    "            self.balance -= amount\n",
    "            print(\"Amount withdrawn:\" , amount)\n",
    "        else:\n",
    "                  print(\"Insufficient balance\")\n",
    "                  \n",
    "    def display(self):\n",
    "                  print(\"Your balance is: \", self.balance)\n",
    " \n",
    "s = bank_account()\n",
    "s.deposit()\n",
    "s.withdraw()\n",
    "s.display()"
   ]
  },
  {
   "cell_type": "markdown",
   "id": "4b4e7cff-507e-4c50-8669-4e39202b00d3",
   "metadata": {},
   "source": [
    "Problem 2: Employee Management Create a class representing an employee with attributes like employee ID, name, and salary. Implement methods to calculate the yearly bonus and display employee details."
   ]
  },
  {
   "cell_type": "code",
   "execution_count": 6,
   "id": "d4383186-6127-445e-8729-7b5dac95fb2f",
   "metadata": {},
   "outputs": [
    {
     "name": "stdout",
     "output_type": "stream",
     "text": [
      "employee ID: Samuel L. Jackson\n",
      "employee name: 001\n",
      "Salary: 50000\n",
      "Yearly bonus: 5000.0\n"
     ]
    }
   ],
   "source": [
    "class employee():\n",
    "    def __init__(self, name, empID, salary):\n",
    "        self.name = name\n",
    "        self.empID = empID\n",
    "        self.salary = salary\n",
    "        \n",
    "    def year_bonus(self):\n",
    "        bonus_percent = 0.1\n",
    "        bonus = self.salary * bonus_percent\n",
    "        return bonus\n",
    "    \n",
    "    def details(self):\n",
    "        print(\"employee ID:\", self.empID)\n",
    "        print(\"employee name:\",self.name)\n",
    "        print(\"Salary:\", self.salary)\n",
    "        print(\"Yearly bonus:\", self.year_bonus())\n",
    "        \n",
    "        \n",
    "emp1 = employee(\"001\", \"Samuel L. Jackson\", 50000)\n",
    "emp1.details()    "
   ]
  },
  {
   "cell_type": "markdown",
   "id": "a67131f5-d05c-4cda-8b66-028517c659a9",
   "metadata": {},
   "source": [
    "Problem 3: Vehicle Rental Create a class representing a vehicle rental system. Implement methods to rent a vehicle, return a vehicle, and display available vehicles."
   ]
  },
  {
   "cell_type": "code",
   "execution_count": 4,
   "id": "84407526-2d41-48d2-895c-e6e175701cd7",
   "metadata": {},
   "outputs": [
    {
     "name": "stdout",
     "output_type": "stream",
     "text": [
      "Available Vehicles:\n",
      "ID: 1, Make: Toyota, Model: Camry, Year: 2020\n",
      "ID: 2, Make: Honda, Model: Civic, Year: 2019\n",
      "ID: 3, Make: Ford, Model: Fusion, Year: 2018\n",
      "Vehicle 2 rented successfully.\n",
      "Available Vehicles:\n",
      "ID: 1, Make: Toyota, Model: Camry, Year: 2020\n",
      "ID: 3, Make: Ford, Model: Fusion, Year: 2018\n",
      "Vehicle 2 returned successfully.\n",
      "Available Vehicles:\n",
      "ID: 1, Make: Toyota, Model: Camry, Year: 2020\n",
      "ID: 2, Make: Honda, Model: Civic, Year: 2019\n",
      "ID: 3, Make: Ford, Model: Fusion, Year: 2018\n"
     ]
    }
   ],
   "source": [
    "class Vehicle:\n",
    "    def __init__(self, vehicle_id, make, model, year, available=True):\n",
    "        self.vehicle_id = vehicle_id\n",
    "        self.make = make\n",
    "        self.model = model\n",
    "        self.year = year\n",
    "        self.available = available\n",
    "        \n",
    "class RentalSystem:\n",
    "    def __init__(self):\n",
    "        self.vehicles = []\n",
    "        \n",
    "    def add_vehicle(self, vehicle):\n",
    "        self.vehicles.append(vehicle)\n",
    "        \n",
    "    def rent_vehicle(self, vehicle_id):\n",
    "        for vehicle in self.vehicles:\n",
    "            if vehicle.vehicle_id == vehicle_id:\n",
    "                if vehicle.available:\n",
    "                    vehicle.available = False\n",
    "                    print(f\"Vehicle {vehicle_id} rented successfully.\")\n",
    "                else:\n",
    "                    print(f\"Vehicle {vehicle_id} is not available for rent.\")\n",
    "                return\n",
    "        print(f\"Vehicle {vehicle_id} not found.\")\n",
    "        \n",
    "    def return_vehicle(self, vehicle_id):\n",
    "        for vehicle in self.vehicles:\n",
    "            if vehicle.vehicle_id == vehicle_id:\n",
    "                if not vehicle.available:\n",
    "                    vehicle.available = True\n",
    "                    print(f\"Vehicle {vehicle_id} returned successfully.\")\n",
    "                else:\n",
    "                    print(f\"Vehicle {vehicle_id} was not rented.\")\n",
    "                return\n",
    "        print(f\"Vehicle {vehicle_id} not found.\")\n",
    "        \n",
    "    def display_available_vehicles(self):\n",
    "        available_vehicles = [vehicle for vehicle in self.vehicles if vehicle.available]\n",
    "        if available_vehicles:\n",
    "            print(\"Available Vehicles:\")\n",
    "            for vehicle in available_vehicles:\n",
    "                print(f\"ID: {vehicle.vehicle_id}, Make: {vehicle.make}, Model: {vehicle.model}, Year: {vehicle.year}\")\n",
    "        else:\n",
    "            print(\"No vehicles available for rent.\")\n",
    "\n",
    " \n",
    "if __name__ == \"__main__\":\n",
    "    rental_system = RentalSystem()\n",
    "\n",
    "    rental_system.add_vehicle(Vehicle(\"1\", \"Toyota\", \"Camry\", 2020))\n",
    "    rental_system.add_vehicle(Vehicle(\"2\", \"Honda\", \"Civic\", 2019))\n",
    "    rental_system.add_vehicle(Vehicle(\"3\", \"Ford\", \"Fusion\", 2018))\n",
    "\n",
    "    rental_system.display_available_vehicles()\n",
    "    rental_system.rent_vehicle(\"2\")\n",
    "    rental_system.display_available_vehicles()\n",
    "    rental_system.return_vehicle(\"2\")\n",
    "    rental_system.display_available_vehicles()\n"
   ]
  },
  {
   "cell_type": "markdown",
   "id": "a4bb756d-1f7a-4e9d-9eff-9651b6dbc025",
   "metadata": {},
   "source": [
    "4. Library Catalog Create classes representing a library and a book. Implement methods to add books to the library, borrow books, and display available books."
   ]
  },
  {
   "cell_type": "code",
   "execution_count": 3,
   "id": "3110be39-0a79-4ec0-bc48-309e191e27cc",
   "metadata": {},
   "outputs": [
    {
     "name": "stdout",
     "output_type": "stream",
     "text": [
      "Available Books:\n",
      "Title: The Great Gatsby, Author: F. Scott Fitzgerald\n",
      "Title: To Kill a Mockingbird, Author: Harper Lee\n",
      "Title: 1984, Author: George Orwell\n",
      "Book 'To Kill a Mockingbird' borrowed successfully.\n",
      "Available Books:\n",
      "Title: The Great Gatsby, Author: F. Scott Fitzgerald\n",
      "Title: 1984, Author: George Orwell\n",
      "Book 'To Kill a Mockingbird' returned successfully.\n",
      "Available Books:\n",
      "Title: The Great Gatsby, Author: F. Scott Fitzgerald\n",
      "Title: To Kill a Mockingbird, Author: Harper Lee\n",
      "Title: 1984, Author: George Orwell\n"
     ]
    }
   ],
   "source": [
    "class Book:\n",
    "    def __init__(self, title, author, available=True):\n",
    "        self.title = title\n",
    "        self.author = author\n",
    "        self.available = available\n",
    "        \n",
    "class Library:\n",
    "    def __init__(self):\n",
    "        self.books = []\n",
    "        \n",
    "    def add_book(self, book):\n",
    "        self.books.append(book)\n",
    "        \n",
    "    def borrow_book(self, title):\n",
    "        for book in self.books:\n",
    "            if book.title == title:\n",
    "                if book.available:\n",
    "                    book.available = False\n",
    "                    print(f\"Book '{title}' borrowed successfully.\")\n",
    "                else:\n",
    "                    print(f\"Book '{title}' is not available.\")\n",
    "                return\n",
    "        print(f\"Book '{title}' not found in the library.\")\n",
    "        \n",
    "    def return_book(self, title):\n",
    "        for book in self.books:\n",
    "            if book.title == title:\n",
    "                if not book.available:\n",
    "                    book.available = True\n",
    "                    print(f\"Book '{title}' returned successfully.\")\n",
    "                else:\n",
    "                    print(f\"Book '{title}' was not borrowed.\")\n",
    "                return\n",
    "        print(f\"Book '{title}' not found in the library.\")\n",
    "\n",
    "    def display_available_books(self):\n",
    "        available_books = [book for book in self.books if book.available]\n",
    "        if available_books:\n",
    "            print(\"Available Books:\")\n",
    "            for book in available_books:\n",
    "                print(f\"Title: {book.title}, Author: {book.author}\")\n",
    "        else:\n",
    "            print(\"No books available in the library.\")\n",
    "\n",
    "if __name__ == \"__main__\":\n",
    "    library = Library()\n",
    "\n",
    "    library.add_book(Book(\"The Great Gatsby\", \"F. Scott Fitzgerald\"))\n",
    "    library.add_book(Book(\"To Kill a Mockingbird\", \"Harper Lee\"))\n",
    "    library.add_book(Book(\"1984\", \"George Orwell\"))\n",
    "\n",
    "    library.display_available_books()\n",
    "\n",
    "    library.borrow_book(\"To Kill a Mockingbird\")\n",
    "\n",
    "    library.display_available_books()\n",
    "\n",
    "    library.return_book(\"To Kill a Mockingbird\")\n",
    "\n",
    "    library.display_available_books()\n"
   ]
  },
  {
   "cell_type": "markdown",
   "id": "55a159c4-cc44-4b1c-927e-f762b349c342",
   "metadata": {},
   "source": [
    "5. Product Inventory Create classes representing a product and an inventory system. Implement methods to add products to the inventory, update product quantity, and display available products."
   ]
  },
  {
   "cell_type": "code",
   "execution_count": 6,
   "id": "b6dadda3-8a1c-4b5b-94f3-b3265cbd7fb8",
   "metadata": {},
   "outputs": [
    {
     "name": "stdout",
     "output_type": "stream",
     "text": [
      "Item Details:\n",
      "Product Name: Laptop, Stock Count: 100, Price: 500.0\n",
      "Product Name: Mobile, Stock Count: 110, Price: 450.0\n",
      "Product Name: Desktop, Stock Count: 120, Price: 500.0\n",
      "Product Name: Tablet, Stock Count: 90, Price: 550.0\n",
      "\n",
      "Update the price of item code - 'I001':\n",
      "Product Name: Laptop, Stock Count: 100, Price: 505.0\n",
      "\n",
      "Update the stock of item code - 'I003':\n",
      "Product Name: Desktop, Stock Count: 115, Price: 500.0\n"
     ]
    }
   ],
   "source": [
    "class Inventory:\n",
    "    def __init__(self):\n",
    "        self.inventory = {}\n",
    "    def add_item(self, item_id, item_name, stock_count, price):\n",
    "        self.inventory[item_id] = {\"item_name\": item_name, \"stock_count\": stock_count, \"price\": price}\n",
    "\n",
    "    def update_item(self, item_id, stock_count, price):\n",
    "        if item_id in self.inventory:\n",
    "            self.inventory[item_id][\"stock_count\"] = stock_count\n",
    "            self.inventory[item_id][\"price\"] = price\n",
    "        else:\n",
    "            print(\"Item not found in inventory.\")\n",
    "\n",
    "    def check_item_details(self, item_id):\n",
    "        if item_id in self.inventory:\n",
    "            item = self.inventory[item_id]\n",
    "            return f\"Product Name: {item['item_name']}, Stock Count: {item['stock_count']}, Price: {item['price']}\"\n",
    "        else:\n",
    "            return \"Item not found in inventory.\"\n",
    "\n",
    "inventory = Inventory()\n",
    "\n",
    "inventory.add_item(\"I001\", \"Laptop\", 100, 500.00)\n",
    "inventory.add_item(\"I002\", \"Mobile\", 110, 450.00)\n",
    "inventory.add_item(\"I003\", \"Desktop\", 120, 500.00)\n",
    "inventory.add_item(\"I004\", \"Tablet\", 90, 550.00)\n",
    "print(\"Item Details:\")\n",
    "print(inventory.check_item_details(\"I001\"))\n",
    "print(inventory.check_item_details(\"I002\"))\n",
    "print(inventory.check_item_details(\"I003\"))\n",
    "print(inventory.check_item_details(\"I004\"))\n",
    "print(\"\\nUpdate the price of item code - 'I001':\")\n",
    "inventory.update_item(\"I001\", 100, 505.00)\n",
    "print(inventory.check_item_details(\"I001\"))\n",
    "print(\"\\nUpdate the stock of item code - 'I003':\")\n",
    "inventory.update_item(\"I003\", 115, 500.00)\n",
    "print(inventory.check_item_details(\"I003\"))\n"
   ]
  },
  {
   "cell_type": "markdown",
   "id": "81c1b31b-f9c4-4a26-9aff-c6abe7d806b8",
   "metadata": {},
   "source": [
    "6. Shape Calculation Create a class representing a shape with attributes like length, width, and height. Implement methods to calculate the area and perimeter of the shape."
   ]
  },
  {
   "cell_type": "code",
   "execution_count": 7,
   "id": "3e55babb-3868-4b22-a18a-f30e81c99b78",
   "metadata": {},
   "outputs": [
    {
     "name": "stdout",
     "output_type": "stream",
     "text": [
      "Radius of the circle: 7\n",
      "Circle Area: 153.93804002589985\n",
      "Circle Perimeter: 43.982297150257104\n",
      "\n",
      "Rectangle: Length = 5  Width = 7\n",
      "Rectangle Area: 35\n",
      "Rectangle Perimeter: 24\n",
      "\n",
      "Triangle: Base = 5  Height = 4  side1 = 4  side2 = 3  side3 = 5\n",
      "Triangle Area: 10.0\n",
      "Triangle Perimeter: 12\n"
     ]
    }
   ],
   "source": [
    "import math\n",
    "\n",
    "class Shape:\n",
    "    def calculate_area(self):\n",
    "        pass\n",
    "\n",
    "    def calculate_perimeter(self):\n",
    "        pass\n",
    "\n",
    "class Circle(Shape):\n",
    "    def __init__(self, radius):\n",
    "        self.radius = radius\n",
    "\n",
    "    def calculate_area(self):\n",
    "        return math.pi * self.radius**2\n",
    "\n",
    "    def calculate_perimeter(self):\n",
    "        return 2 * math.pi * self.radius\n",
    "\n",
    "class Rectangle(Shape):\n",
    "    def __init__(self, length, width):\n",
    "        self.length = length\n",
    "        self.width = width\n",
    "\n",
    "    def calculate_area(self):\n",
    "        return self.length * self.width\n",
    "\n",
    "    def calculate_perimeter(self):\n",
    "        return 2 * (self.length + self.width)\n",
    "\n",
    "class Triangle(Shape):\n",
    "    def __init__(self, base, height, side1, side2, side3):\n",
    "        self.base = base\n",
    "        self.height = height\n",
    "        self.side1 = side1\n",
    "        self.side2 = side2\n",
    "        self.side3 = side3\n",
    "\n",
    "    def calculate_area(self):\n",
    "        return 0.5 * self.base * self.height\n",
    "\n",
    "    def calculate_perimeter(self):\n",
    "        return self.side1 + self.side2 + self.side3\n",
    "\n",
    "\n",
    "r = 7\n",
    "circle = Circle(r)\n",
    "circle_area = circle.calculate_area()\n",
    "circle_perimeter = circle.calculate_perimeter()\n",
    "\n",
    "print(\"Radius of the circle:\", r)\n",
    "print(\"Circle Area:\", circle_area)\n",
    "print(\"Circle Perimeter:\", circle_perimeter)\n",
    "\n",
    "l = 5\n",
    "w = 7\n",
    "rectangle = Rectangle(l, w)\n",
    "rectangle_area = rectangle.calculate_area()\n",
    "rectangle_perimeter = rectangle.calculate_perimeter()\n",
    "\n",
    "print(\"\\nRectangle: Length =\", l, \" Width =\", w)\n",
    "print(\"Rectangle Area:\", rectangle_area)\n",
    "print(\"Rectangle Perimeter:\", rectangle_perimeter)\n",
    "\n",
    "base = 5\n",
    "height = 4\n",
    "s1 = 4\n",
    "s2 = 3\n",
    "s3 = 5\n",
    "\n",
    "print(\"\\nTriangle: Base =\", base, \" Height =\", height, \" side1 =\", s1, \" side2 =\", s2, \" side3 =\", s3)\n",
    "triangle = Triangle(base, height, s1, s2, s3)\n",
    "triangle_area = triangle.calculate_area()\n",
    "triangle_perimeter = triangle.calculate_perimeter()\n",
    "print(\"Triangle Area:\", triangle_area)\n",
    "print(\"Triangle Perimeter:\", triangle_perimeter)\n"
   ]
  },
  {
   "cell_type": "markdown",
   "id": "6c3159a0-c8b9-4ca3-9c62-a0545c96a23c",
   "metadata": {},
   "source": [
    "7. Student Management Create a class representing a student with attributes like student ID, name, and grades. Implement methods to calculate the average grade and display student details."
   ]
  },
  {
   "cell_type": "code",
   "execution_count": 9,
   "id": "866bdd02-0783-4b07-a390-bfe730bfecba",
   "metadata": {},
   "outputs": [
    {
     "name": "stdout",
     "output_type": "stream",
     "text": [
      "Student ID: S001\n",
      "Name: Alice\n",
      "Grades: [85, 90, 92, 88]\n",
      "Average Grade: 88.75\n",
      "Student ID: S001\n",
      "Name: Alice\n",
      "Grades: [85, 90, 92, 88, 95]\n",
      "Average Grade: 90.0\n"
     ]
    }
   ],
   "source": [
    "class Student:\n",
    "    def __init__(self, student_id, name, grades=[]):\n",
    "        self.student_id = student_id\n",
    "        self.name = name\n",
    "        self.grades = grades\n",
    "\n",
    "    def add_grade(self, grade):\n",
    "        self.grades.append(grade)\n",
    "\n",
    "    def calculate_average_grade(self):\n",
    "        if len(self.grades) == 0:\n",
    "            return 0\n",
    "        else:\n",
    "            return sum(self.grades) / len(self.grades)\n",
    "\n",
    "    def display_details(self):\n",
    "        print(f\"Student ID: {self.student_id}\")\n",
    "        print(f\"Name: {self.name}\")\n",
    "        print(\"Grades:\", self.grades)\n",
    "        print(f\"Average Grade: {self.calculate_average_grade()}\")\n",
    "\n",
    "student1 = Student(\"S001\", \"Alice\", [85, 90, 92, 88])\n",
    "student1.display_details()  \n",
    "student1.add_grade(95)  \n",
    "student1.display_details()  \n"
   ]
  },
  {
   "cell_type": "markdown",
   "id": "03e13bb5-68ff-4049-88be-daab84086d13",
   "metadata": {},
   "source": [
    "8. Email Management Create a class representing an email with attributes like sender, recipient, and subject. Implement methods to send an email and display email details."
   ]
  },
  {
   "cell_type": "code",
   "execution_count": 10,
   "id": "6e71ed19-a304-4e98-8ea9-e68e26881934",
   "metadata": {},
   "outputs": [
    {
     "name": "stdout",
     "output_type": "stream",
     "text": [
      "Email Details:\n",
      "From: sender@example.com\n",
      "To: recipient@example.com\n",
      "Subject: Test Email\n",
      "Body: This is a test email.\n",
      "Email sent: False\n",
      "Sending email...\n",
      "From: sender@example.com\n",
      "To: recipient@example.com\n",
      "Subject: Test Email\n",
      "Body: This is a test email.\n",
      "Email sent successfully!\n",
      "Email Details:\n",
      "From: sender@example.com\n",
      "To: recipient@example.com\n",
      "Subject: Test Email\n",
      "Body: This is a test email.\n",
      "Email sent: True\n"
     ]
    }
   ],
   "source": [
    "class Email:\n",
    "    def __init__(self, sender, recipient, subject, body):\n",
    "        self.sender = sender\n",
    "        self.recipient = recipient\n",
    "        self.subject = subject\n",
    "        self.body = body\n",
    "        self.sent = False\n",
    "\n",
    "    def send_email(self):\n",
    "        print(\"Sending email...\")\n",
    "        print(\"From:\", self.sender)\n",
    "        print(\"To:\", self.recipient)\n",
    "        print(\"Subject:\", self.subject)\n",
    "        print(\"Body:\", self.body)\n",
    "        self.sent = True\n",
    "        print(\"Email sent successfully!\")\n",
    "\n",
    "    def display_details(self):\n",
    "        print(\"Email Details:\")\n",
    "        print(\"From:\", self.sender)\n",
    "        print(\"To:\", self.recipient)\n",
    "        print(\"Subject:\", self.subject)\n",
    "        print(\"Body:\", self.body)\n",
    "        print(\"Email sent:\", self.sent)\n",
    "\n",
    "\n",
    "email1 = Email(\"sender@example.com\", \"recipient@example.com\", \"Test Email\", \"This is a test email.\")\n",
    "email1.display_details()  \n",
    "email1.send_email()  \n",
    "email1.display_details()  \n"
   ]
  },
  {
   "cell_type": "markdown",
   "id": "89b7db78-402d-4273-bf46-132da1732ce2",
   "metadata": {},
   "source": [
    "9. Social Media Profile Create a class representing a social media profile with attributes like username and posts. Implement methods to add posts, display posts, and search for posts by keyword."
   ]
  },
  {
   "cell_type": "code",
   "execution_count": 11,
   "id": "bfe3b32a-c2ad-405c-8dea-4a704b5aaf0e",
   "metadata": {},
   "outputs": [
    {
     "name": "stdout",
     "output_type": "stream",
     "text": [
      "Posts by user123:\n",
      "This is my first post.\n",
      "Just posted a new photo!\n",
      "Feeling excited about the weekend!\n",
      "Posts containing 'excited':\n",
      "Feeling excited about the weekend!\n"
     ]
    }
   ],
   "source": [
    "class SocialMediaProfile:\n",
    "    def __init__(self, username):\n",
    "        self.username = username\n",
    "        self.posts = []\n",
    "\n",
    "    def add_post(self, post):\n",
    "        self.posts.append(post)\n",
    "\n",
    "    def display_posts(self):\n",
    "        print(f\"Posts by {self.username}:\")\n",
    "        for post in self.posts:\n",
    "            print(post)\n",
    "\n",
    "    def search_posts(self, keyword):\n",
    "        matching_posts = [post for post in self.posts if keyword.lower() in post.lower()]\n",
    "        if matching_posts:\n",
    "            print(f\"Posts containing '{keyword}':\")\n",
    "            for post in matching_posts:\n",
    "                print(post)\n",
    "        else:\n",
    "            print(f\"No posts containing '{keyword}' found.\")\n",
    "\n",
    "profile1 = SocialMediaProfile(\"user123\")\n",
    "profile1.add_post(\"This is my first post.\")\n",
    "profile1.add_post(\"Just posted a new photo!\")\n",
    "profile1.add_post(\"Feeling excited about the weekend!\")\n",
    "profile1.display_posts() \n",
    "profile1.search_posts(\"excited\")  \n"
   ]
  },
  {
   "cell_type": "markdown",
   "id": "91b52ff8-97e1-4f41-8928-b3023e26bfc1",
   "metadata": {},
   "source": [
    "10. ToDo List Create a class representing a ToDo list with attributes like tasks and due dates. Implement methods to add tasks, mark tasks as completed, and display pending tasks."
   ]
  },
  {
   "cell_type": "code",
   "execution_count": 12,
   "id": "dc40620e-8986-4e01-a7f8-46333b1c8b9a",
   "metadata": {},
   "outputs": [
    {
     "name": "stdout",
     "output_type": "stream",
     "text": [
      "Pending Tasks:\n",
      "Complete project report (Due: 2024-04-15)\n",
      "Buy groceries (Due: 2024-04-12)\n",
      "Task 'Buy groceries' marked as completed.\n",
      "Pending Tasks:\n",
      "Complete project report (Due: 2024-04-15)\n"
     ]
    }
   ],
   "source": [
    "class ToDoList:\n",
    "    def __init__(self):\n",
    "        self.tasks = {}\n",
    "\n",
    "    def add_task(self, task, due_date):\n",
    "        self.tasks[task] = due_date\n",
    "\n",
    "    def mark_task_completed(self, task):\n",
    "        if task in self.tasks:\n",
    "            del self.tasks[task]\n",
    "            print(f\"Task '{task}' marked as completed.\")\n",
    "        else:\n",
    "            print(f\"Task '{task}' not found in the ToDo list.\")\n",
    "\n",
    "    def display_pending_tasks(self):\n",
    "        if self.tasks:\n",
    "            print(\"Pending Tasks:\")\n",
    "            for task, due_date in self.tasks.items():\n",
    "                print(f\"{task} (Due: {due_date})\")\n",
    "        else:\n",
    "            print(\"No pending tasks in the ToDo list.\")\n",
    "\n",
    "todo_list = ToDoList()\n",
    "todo_list.add_task(\"Complete project report\", \"2024-04-15\")\n",
    "todo_list.add_task(\"Buy groceries\", \"2024-04-12\")\n",
    "todo_list.display_pending_tasks() \n",
    "todo_list.mark_task_completed(\"Buy groceries\") \n",
    "todo_list.display_pending_tasks()  "
   ]
  },
  {
   "cell_type": "code",
   "execution_count": null,
   "id": "e6610093-93d2-4aef-88b7-25dc14307a4d",
   "metadata": {},
   "outputs": [],
   "source": []
  }
 ],
 "metadata": {
  "kernelspec": {
   "display_name": "Python 3 (ipykernel)",
   "language": "python",
   "name": "python3"
  },
  "language_info": {
   "codemirror_mode": {
    "name": "ipython",
    "version": 3
   },
   "file_extension": ".py",
   "mimetype": "text/x-python",
   "name": "python",
   "nbconvert_exporter": "python",
   "pygments_lexer": "ipython3",
   "version": "3.10.8"
  }
 },
 "nbformat": 4,
 "nbformat_minor": 5
}
